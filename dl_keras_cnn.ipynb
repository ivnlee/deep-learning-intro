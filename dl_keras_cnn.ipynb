{
  "nbformat": 4,
  "nbformat_minor": 0,
  "metadata": {
    "colab": {
      "provenance": [],
      "authorship_tag": "ABX9TyPEj5Q6YQIcj5jm1kKde+ci",
      "include_colab_link": true
    },
    "kernelspec": {
      "name": "python3",
      "display_name": "Python 3"
    },
    "language_info": {
      "name": "python"
    }
  },
  "cells": [
    {
      "cell_type": "markdown",
      "metadata": {
        "id": "view-in-github",
        "colab_type": "text"
      },
      "source": [
        "<a href=\"https://colab.research.google.com/github/ivnlee/deep-learning-intro/blob/main/dl_keras_cnn.ipynb\" target=\"_parent\"><img src=\"https://colab.research.google.com/assets/colab-badge.svg\" alt=\"Open In Colab\"/></a>"
      ]
    },
    {
      "cell_type": "markdown",
      "source": [
        "## Convolutional Neural Network with Keras"
      ],
      "metadata": {
        "id": "OZ0Ax2AifFqE"
      }
    },
    {
      "cell_type": "code",
      "execution_count": 2,
      "metadata": {
        "id": "ZkgT6uype8kr"
      },
      "outputs": [],
      "source": [
        "import keras\n",
        "from keras.models import Sequential\n",
        "from keras.layers import Dense\n",
        "from keras.utils import to_categorical\n",
        "from keras.layers.convolutional import Conv2D # to add convolutional layers\n",
        "from keras.layers.convolutional import MaxPooling2D # to add pooling layers\n",
        "from keras.layers import Flatten # to flatten data for fully connected layers"
      ]
    },
    {
      "cell_type": "markdown",
      "source": [
        "### 1. Convolutional Layer with One set of convolutional and pooling layers"
      ],
      "metadata": {
        "id": "MXKyOje4fd3O"
      }
    },
    {
      "cell_type": "markdown",
      "source": [
        "Load the MNIST dataset, included with Keras"
      ],
      "metadata": {
        "id": "PGSXFq9gqkWD"
      }
    },
    {
      "cell_type": "code",
      "source": [
        "# import data\n",
        "from keras.datasets import mnist\n",
        "\n",
        "# load data\n",
        "(X_train, y_train), (X_test, y_test) = mnist.load_data()\n",
        "\n",
        "X_train.shape"
      ],
      "metadata": {
        "colab": {
          "base_uri": "https://localhost:8080/"
        },
        "id": "YG_D4oGPfQ-E",
        "outputId": "ba29c7e4-271b-4b32-c3db-f74291db30f9"
      },
      "execution_count": 4,
      "outputs": [
        {
          "output_type": "execute_result",
          "data": {
            "text/plain": [
              "(60000, 28, 28)"
            ]
          },
          "metadata": {},
          "execution_count": 4
        }
      ]
    },
    {
      "cell_type": "code",
      "source": [
        "# reshape to be [samples][pixels][width][height]\n",
        "X_train = X_train.reshape(X_train.shape[0], 28, 28, 1).astype('float32')\n",
        "X_test = X_test.reshape(X_test.shape[0], 28, 28, 1).astype('float32')"
      ],
      "metadata": {
        "id": "8bbjhnRVfxWj"
      },
      "execution_count": 5,
      "outputs": []
    },
    {
      "cell_type": "markdown",
      "source": [
        "**Normalize the pixel values to be between 0 and 1**"
      ],
      "metadata": {
        "id": "Ft6yu-qHhGnr"
      }
    },
    {
      "cell_type": "code",
      "source": [
        "X_train = X_train / 255\n",
        "X_test = X_test / 255"
      ],
      "metadata": {
        "id": "7ckZkYShhJFi"
      },
      "execution_count": 6,
      "outputs": []
    },
    {
      "cell_type": "markdown",
      "source": [
        "**Next, let's convert the target variable into categories**"
      ],
      "metadata": {
        "id": "ua1SGqIVhXhB"
      }
    },
    {
      "cell_type": "code",
      "source": [
        "y_tratin_flat = to_categorical(y_train)\n",
        "y_test_flat = to_categorical(y_test)\n",
        "\n",
        "num_classes = y_test_flat.shape[1]\n",
        "print(num_classes)"
      ],
      "metadata": {
        "colab": {
          "base_uri": "https://localhost:8080/"
        },
        "id": "6XppHG-DhaEa",
        "outputId": "11914251-40a1-4042-83e9-df43273156ab"
      },
      "execution_count": 7,
      "outputs": [
        {
          "output_type": "stream",
          "name": "stdout",
          "text": [
            "10\n"
          ]
        }
      ]
    },
    {
      "cell_type": "markdown",
      "source": [
        "**Next, let's define a function that creates our model. Let's start with one set of convolutional and pooling layers.**"
      ],
      "metadata": {
        "id": "zpM8X5BXieu9"
      }
    },
    {
      "cell_type": "code",
      "source": [
        "def convolutional_model():\n",
        "  #create model\n",
        "  model = Sequential()\n",
        "  model.add(Conv2D(16, (5, 5), strides=(1,1), activation='relu', input_shape=(28, 28, 1)))\n",
        "  model.add(MaxPooling2D(pool_size=(2,2), strides=(2,2)))\n",
        "\n",
        "  model.add(Flatten())\n",
        "  model.add(Dense(100, activation='relu'))\n",
        "  model.add(Dense(num_classes, activation='softmax'))\n",
        "\n",
        "  #compile model\n",
        "  model.compile(optimizer='adam', loss='categorical_crossentropy', metrics=(['accuracy']))\n",
        "  return model"
      ],
      "metadata": {
        "id": "3GZju4Ynihgu"
      },
      "execution_count": 12,
      "outputs": []
    },
    {
      "cell_type": "markdown",
      "source": [
        "**Now let's create the model, train it and evaluate it**"
      ],
      "metadata": {
        "id": "pJNZYrufkU9k"
      }
    },
    {
      "cell_type": "code",
      "source": [
        "# build the model\n",
        "model = convolutional_model()\n",
        "\n",
        "# fit the model\n",
        "model.fit(X_train, y_tratin_flat,\n",
        "          validation_data=(X_test, y_test_flat),\n",
        "          epochs = 10,\n",
        "          batch_size = 200,\n",
        "          verbose = 2)\n",
        "\n",
        "#evaluate the model\n",
        "scores = model.evaluate(X_test, y_test_flat, verbose=0)\n",
        "print('Accuracy: {} \\nError: {}'.format(scores[1]*100, 1 - scores[1]))"
      ],
      "metadata": {
        "colab": {
          "base_uri": "https://localhost:8080/"
        },
        "id": "qNScPMTxkYX8",
        "outputId": "ca9ea78e-4316-403f-97f5-3549bda364df"
      },
      "execution_count": 13,
      "outputs": [
        {
          "output_type": "stream",
          "name": "stdout",
          "text": [
            "Epoch 1/10\n",
            "300/300 - 25s - loss: 0.2936 - accuracy: 0.9170 - val_loss: 0.1042 - val_accuracy: 0.9687 - 25s/epoch - 83ms/step\n",
            "Epoch 2/10\n",
            "300/300 - 23s - loss: 0.0860 - accuracy: 0.9748 - val_loss: 0.0670 - val_accuracy: 0.9796 - 23s/epoch - 78ms/step\n",
            "Epoch 3/10\n",
            "300/300 - 22s - loss: 0.0597 - accuracy: 0.9825 - val_loss: 0.0542 - val_accuracy: 0.9823 - 22s/epoch - 72ms/step\n",
            "Epoch 4/10\n",
            "300/300 - 23s - loss: 0.0462 - accuracy: 0.9862 - val_loss: 0.0425 - val_accuracy: 0.9858 - 23s/epoch - 77ms/step\n",
            "Epoch 5/10\n",
            "300/300 - 23s - loss: 0.0371 - accuracy: 0.9890 - val_loss: 0.0403 - val_accuracy: 0.9873 - 23s/epoch - 78ms/step\n",
            "Epoch 6/10\n",
            "300/300 - 23s - loss: 0.0315 - accuracy: 0.9906 - val_loss: 0.0416 - val_accuracy: 0.9865 - 23s/epoch - 77ms/step\n",
            "Epoch 7/10\n",
            "300/300 - 22s - loss: 0.0260 - accuracy: 0.9922 - val_loss: 0.0388 - val_accuracy: 0.9870 - 22s/epoch - 73ms/step\n",
            "Epoch 8/10\n",
            "300/300 - 23s - loss: 0.0222 - accuracy: 0.9932 - val_loss: 0.0395 - val_accuracy: 0.9860 - 23s/epoch - 77ms/step\n",
            "Epoch 9/10\n",
            "300/300 - 23s - loss: 0.0181 - accuracy: 0.9946 - val_loss: 0.0410 - val_accuracy: 0.9870 - 23s/epoch - 77ms/step\n",
            "Epoch 10/10\n",
            "300/300 - 23s - loss: 0.0154 - accuracy: 0.9955 - val_loss: 0.0413 - val_accuracy: 0.9876 - 23s/epoch - 77ms/step\n",
            "Accuracy: 98.7600028514862 \n",
            "Error: 0.01239997148513794\n"
          ]
        }
      ]
    },
    {
      "cell_type": "markdown",
      "source": [
        "### 2. Convolutional Layer with two sets of convolutional and pooling layers"
      ],
      "metadata": {
        "id": "kWrsPvLSn8Bs"
      }
    },
    {
      "cell_type": "code",
      "source": [
        "def convolutional_model2():\n",
        "  #create model\n",
        "  model = Sequential()\n",
        "  model.add(Conv2D(16, (5, 5), strides=(1,1), activation='relu', input_shape=(28, 28, 1)))\n",
        "  model.add(MaxPooling2D(pool_size=(2,2), strides=(2,2)))\n",
        "\n",
        "  #second conv and pool layer\n",
        "  model.add(Conv2D(8, (2,2), activation=('relu')))\n",
        "  model.add(MaxPooling2D(pool_size=(2,2), strides=(2,2)))\n",
        "\n",
        "  model.add(Flatten())\n",
        "  model.add(Dense(100, activation='relu'))\n",
        "  model.add(Dense(num_classes, activation='softmax'))\n",
        "\n",
        "  #compile model\n",
        "  model.compile(optimizer='adam', loss='categorical_crossentropy', metrics=(['accuracy']))\n",
        "  return model"
      ],
      "metadata": {
        "id": "lhwkAEFin_HD"
      },
      "execution_count": 15,
      "outputs": []
    },
    {
      "cell_type": "markdown",
      "source": [
        "Now, let's call the function to create our new convolutional neural network, and then let's train it and evaluate it."
      ],
      "metadata": {
        "id": "_19tJo49pRk3"
      }
    },
    {
      "cell_type": "code",
      "source": [
        "# build the model\n",
        "model_2 = convolutional_model2()\n",
        "\n",
        "# fit the model\n",
        "model.fit(X_train, y_tratin_flat,\n",
        "          validation_data=(X_test, y_test_flat),\n",
        "          epochs = 10,\n",
        "          batch_size = 200,\n",
        "          verbose = 2)\n",
        "\n",
        "#evaluate the model\n",
        "scores = model.evaluate(X_test, y_test_flat, verbose=0)\n",
        "print('Accuracy: {} \\nError: {}'.format(scores[1]*100, 1 - scores[1]))"
      ],
      "metadata": {
        "colab": {
          "base_uri": "https://localhost:8080/"
        },
        "id": "gvTuZBGHpSTe",
        "outputId": "66620458-790c-4c56-cffb-ffea6733517a"
      },
      "execution_count": 16,
      "outputs": [
        {
          "output_type": "stream",
          "name": "stdout",
          "text": [
            "Epoch 1/10\n",
            "300/300 - 23s - loss: 0.0125 - accuracy: 0.9964 - val_loss: 0.0386 - val_accuracy: 0.9872 - 23s/epoch - 77ms/step\n",
            "Epoch 2/10\n",
            "300/300 - 23s - loss: 0.0095 - accuracy: 0.9974 - val_loss: 0.0422 - val_accuracy: 0.9876 - 23s/epoch - 77ms/step\n",
            "Epoch 3/10\n",
            "300/300 - 22s - loss: 0.0082 - accuracy: 0.9980 - val_loss: 0.0409 - val_accuracy: 0.9881 - 22s/epoch - 72ms/step\n",
            "Epoch 4/10\n",
            "300/300 - 23s - loss: 0.0081 - accuracy: 0.9976 - val_loss: 0.0428 - val_accuracy: 0.9872 - 23s/epoch - 77ms/step\n",
            "Epoch 5/10\n",
            "300/300 - 23s - loss: 0.0060 - accuracy: 0.9983 - val_loss: 0.0447 - val_accuracy: 0.9862 - 23s/epoch - 77ms/step\n",
            "Epoch 6/10\n",
            "300/300 - 23s - loss: 0.0050 - accuracy: 0.9987 - val_loss: 0.0494 - val_accuracy: 0.9866 - 23s/epoch - 77ms/step\n",
            "Epoch 7/10\n",
            "300/300 - 22s - loss: 0.0047 - accuracy: 0.9988 - val_loss: 0.0540 - val_accuracy: 0.9854 - 22s/epoch - 73ms/step\n",
            "Epoch 8/10\n",
            "300/300 - 23s - loss: 0.0040 - accuracy: 0.9989 - val_loss: 0.0405 - val_accuracy: 0.9885 - 23s/epoch - 75ms/step\n",
            "Epoch 9/10\n",
            "300/300 - 23s - loss: 0.0022 - accuracy: 0.9995 - val_loss: 0.0429 - val_accuracy: 0.9887 - 23s/epoch - 78ms/step\n",
            "Epoch 10/10\n",
            "300/300 - 23s - loss: 0.0022 - accuracy: 0.9995 - val_loss: 0.0475 - val_accuracy: 0.9879 - 23s/epoch - 76ms/step\n",
            "Accuracy: 98.79000186920166 \n",
            "Error: 0.012099981307983398\n"
          ]
        }
      ]
    },
    {
      "cell_type": "code",
      "source": [],
      "metadata": {
        "id": "5zAQUCszqc0-"
      },
      "execution_count": null,
      "outputs": []
    }
  ]
}